{
 "cells": [
  {
   "cell_type": "markdown",
   "id": "954dc9d0",
   "metadata": {},
   "source": [
    "Iniciando Spark"
   ]
  },
  {
   "cell_type": "code",
   "execution_count": 1,
   "id": "f54d0951",
   "metadata": {},
   "outputs": [
    {
     "name": "stdout",
     "output_type": "stream",
     "text": [
      "SparkSession criada com sucesso!\n"
     ]
    }
   ],
   "source": [
    "import findspark\n",
    "findspark.init() \n",
    "\n",
    "from pyspark.sql import SparkSession\n",
    "import time\n",
    "\n",
    "\n",
    "spark = SparkSession.builder \\\n",
    "    .appName(\"MeuNotebookParquet\") \\\n",
    "    .master(\"local[*]\") \\\n",
    "    .getOrCreate()\n",
    "\n",
    "print(\"SparkSession criada com sucesso!\")"
   ]
  },
  {
   "cell_type": "markdown",
   "id": "29ad9191",
   "metadata": {},
   "source": [
    "Consulta em CSV"
   ]
  },
  {
   "cell_type": "code",
   "execution_count": 2,
   "id": "c1128e45",
   "metadata": {},
   "outputs": [
    {
     "name": "stdout",
     "output_type": "stream",
     "text": [
      "Total de vendas no Sudeste (CSV): 199679\n",
      "Tempo TOTAL (CSV): 8.44 segundos\n"
     ]
    }
   ],
   "source": [
    "start_time_csv_total = time.time()\n",
    "\n",
    "df_csv = spark.read.csv(\"vendas.csv\", header=True, inferSchema=True)\n",
    "\n",
    "total_vendas_sudeste_csv = df_csv.filter(df_csv.regiao == \"Sudeste\").count()\n",
    "\n",
    "end_time_csv_total = time.time()\n",
    "\n",
    "print(f\"Total de vendas no Sudeste (CSV): {total_vendas_sudeste_csv}\")\n",
    "print(f\"Tempo TOTAL (CSV): {end_time_csv_total - start_time_csv_total:.2f} segundos\")\n"
   ]
  },
  {
   "cell_type": "markdown",
   "id": "f1e4d333",
   "metadata": {},
   "source": [
    "Consulta em Parquet\n"
   ]
  },
  {
   "cell_type": "code",
   "execution_count": 3,
   "id": "b1799f3a",
   "metadata": {},
   "outputs": [
    {
     "name": "stdout",
     "output_type": "stream",
     "text": [
      "Arquivos Parquet gerados.\n"
     ]
    }
   ],
   "source": [
    "df_csv_prepare = spark.read.csv(\"vendas.csv\", header=True, inferSchema=True)\n",
    "df_csv_prepare.write.mode(\"overwrite\").parquet(\"vendas.parquet\")\n",
    "print(\"Arquivos Parquet gerados.\")"
   ]
  },
  {
   "cell_type": "code",
   "execution_count": 4,
   "id": "e9d531d7",
   "metadata": {},
   "outputs": [
    {
     "name": "stdout",
     "output_type": "stream",
     "text": [
      "\n",
      "---  CONSULTA EM PARQUET  ---\n",
      "Total de vendas no Sudeste (Parquet): 199679\n",
      "Tempo gasto (Parquet): 0.88 segundos\n",
      "--- CONSULTA PARQUET CONCLUÍDA ---\n"
     ]
    }
   ],
   "source": [
    "print(\"\\n---  CONSULTA EM PARQUET  ---\")\n",
    "start_time_parquet = time.time()\n",
    "\n",
    "df_parquet = spark.read.parquet(\"vendas.parquet\")\n",
    "\n",
    "total_vendas_sudeste_parquet = df_parquet.filter(df_parquet.regiao == \"Sudeste\").count()\n",
    "end_time_parquet = time.time()\n",
    "\n",
    "\n",
    "print(f\"Total de vendas no Sudeste (Parquet): {total_vendas_sudeste_parquet}\")\n",
    "print(f\"Tempo gasto (Parquet): {end_time_parquet - start_time_parquet:.2f} segundos\")\n",
    "\n",
    "print(\"--- CONSULTA PARQUET CONCLUÍDA ---\")\n"
   ]
  },
  {
   "cell_type": "markdown",
   "id": "029f0a78",
   "metadata": {},
   "source": [
    "Consulta em ORC"
   ]
  },
  {
   "cell_type": "code",
   "execution_count": 5,
   "id": "046f2ffa",
   "metadata": {},
   "outputs": [
    {
     "name": "stdout",
     "output_type": "stream",
     "text": [
      "Arquivos .orc gerados\n"
     ]
    }
   ],
   "source": [
    "\n",
    "df_csv = spark.read.csv(\"vendas.csv\",header=True,inferSchema=True)\n",
    "df_csv.write.mode(\"overwrite\").orc(\"vendas.orc\")\n",
    "print(\"Arquivos .orc gerados\")\n"
   ]
  },
  {
   "cell_type": "code",
   "execution_count": 6,
   "id": "f44bc692",
   "metadata": {},
   "outputs": [
    {
     "name": "stdout",
     "output_type": "stream",
     "text": [
      "Total de vendas no Sudeste (ORC): 199679\n",
      "Tempo gasto (ORC): 0.73 segundos\n"
     ]
    }
   ],
   "source": [
    "(\"\\n--- CONSULTA EM ORC ---\")\n",
    "\n",
    "start_time_orc = time.time()\n",
    "df_orc = spark.read.orc(\"vendas.orc\")\n",
    "\n",
    "total_vendas_sudeste_orc = df_orc.filter(df_orc.regiao == \"Sudeste\").count()\n",
    "end_time_orc = time.time()\n",
    "\n",
    "print(f\"Total de vendas no Sudeste (ORC): {total_vendas_sudeste_orc}\")\n",
    "print(f\"Tempo gasto (ORC): {end_time_orc - start_time_orc:.2f} segundos\")"
   ]
  }
 ],
 "metadata": {
  "kernelspec": {
   "display_name": "Python 3",
   "language": "python",
   "name": "python3"
  },
  "language_info": {
   "codemirror_mode": {
    "name": "ipython",
    "version": 3
   },
   "file_extension": ".py",
   "mimetype": "text/x-python",
   "name": "python",
   "nbconvert_exporter": "python",
   "pygments_lexer": "ipython3",
   "version": "3.13.5"
  }
 },
 "nbformat": 4,
 "nbformat_minor": 5
}
